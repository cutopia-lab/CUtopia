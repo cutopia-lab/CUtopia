{
 "cells": [
  {
   "cell_type": "markdown",
   "metadata": {},
   "source": [
    "### Handle course data update"
   ]
  },
  {
   "cell_type": "code",
   "execution_count": 1,
   "metadata": {},
   "outputs": [],
   "source": [
    "current_term = \"2022-23 Term 2\""
   ]
  },
  {
   "cell_type": "markdown",
   "metadata": {},
   "source": [
    "#### Fetch data"
   ]
  },
  {
   "cell_type": "code",
   "execution_count": 2,
   "metadata": {},
   "outputs": [
    {
     "name": "stdout",
     "output_type": "stream",
     "text": [
      "Parsing courses for all 251 subjects, skip if already existed\n"
     ]
    },
    {
     "name": "stderr",
     "output_type": "stream",
     "text": [
      "100%|██████████| 251/251 [1:29:38<00:00, 21.43s/it]"
     ]
    },
    {
     "name": "stdout",
     "output_type": "stream",
     "text": [
      "Done! Saved at data/1667622580\n"
     ]
    },
    {
     "name": "stderr",
     "output_type": "stream",
     "text": [
      "\n"
     ]
    }
   ],
   "source": [
    "from scraper import CourseScraper\n",
    "import os\n",
    "\n",
    "# To merge old courses\n",
    "old_data_dir = os.path.abspath(\"../data\")\n",
    "\n",
    "cs = CourseScraper(merge_dir=old_data_dir, current_term=current_term)\n",
    "timestamp = cs.parse_all(skip_parsed=True, verbose=False)"
   ]
  },
  {
   "cell_type": "markdown",
   "metadata": {},
   "source": [
    "#### Derive data"
   ]
  },
  {
   "cell_type": "code",
   "execution_count": 3,
   "metadata": {},
   "outputs": [
    {
     "name": "stdout",
     "output_type": "stream",
     "text": [
      "Found 2978 instructors\n",
      "Number of departments: 125\n",
      "Number of courses: 8414\n"
     ]
    }
   ],
   "source": [
    "cs.post_processing(stat=True)\n",
    "cs.info()"
   ]
  },
  {
   "cell_type": "markdown",
   "metadata": {},
   "source": [
    "#### Update cutopia-data"
   ]
  },
  {
   "cell_type": "code",
   "execution_count": 4,
   "metadata": {},
   "outputs": [
    {
     "name": "stdout",
     "output_type": "stream",
     "text": [
      "moving 1667622580 to /home/mike/Github/CUtopia/data\n"
     ]
    },
    {
     "name": "stderr",
     "output_type": "stream",
     "text": [
      "+ git add .\n",
      "+ git commit -am Update data @1667622580\n"
     ]
    },
    {
     "name": "stdout",
     "output_type": "stream",
     "text": [
      "[master 25c1b76] Update data @1667622580\n",
      " 53 files changed, 53 insertions(+), 53 deletions(-)\n",
      " rewrite courses/ANIC.json (67%)\n",
      " rewrite courses/BIOS.json (88%)\n",
      " rewrite courses/CLCC.json (85%)\n",
      " rewrite courses/ELTU.json (69%)\n",
      " rewrite courses/FINA.json (61%)\n",
      " rewrite courses/FTEC.json (82%)\n",
      " rewrite courses/GRMD.json (68%)\n",
      " rewrite courses/HSYS.json (87%)\n",
      " rewrite courses/IERG.json (62%)\n",
      " rewrite courses/INFD.json (89%)\n",
      " rewrite courses/LAWS.json (67%)\n",
      " rewrite courses/MKTG.json (61%)\n",
      " rewrite courses/MUSC.json (82%)\n",
      " rewrite courses/OENV.json (80%)\n",
      " rewrite courses/PBHT.json (87%)\n",
      " rewrite courses/PHED.json (74%)\n",
      " rewrite courses/PHIL.json (65%)\n",
      " rewrite courses/POPG.json (86%)\n",
      " rewrite courses/PSYC.json (88%)\n",
      " rewrite courses/RMSC.json (80%)\n",
      " rewrite courses/SEEM.json (90%)\n",
      " rewrite resources/instructors.json (99%)\n"
     ]
    },
    {
     "name": "stderr",
     "output_type": "stream",
     "text": [
      "+ git push origin master\n",
      "To https://github.com/cutopia-lab/cuhk-course-data\n",
      "   2fe3def..25c1b76  master -> master\n"
     ]
    }
   ],
   "source": [
    "import os\n",
    "\n",
    "p = os.system(f'sh move_data.sh {timestamp}')\n"
   ]
  },
  {
   "cell_type": "markdown",
   "metadata": {},
   "source": [
    "#### Update FE & BE"
   ]
  },
  {
   "cell_type": "code",
   "execution_count": 5,
   "metadata": {},
   "outputs": [
    {
     "name": "stdout",
     "output_type": "stream",
     "text": [
      "yarn run v1.22.17\n",
      "$ yarn load-data && yarn mount-data\n",
      "$ git submodule update --init --remote\n",
      "$ yarn fe move-data && yarn be move-data\n",
      "$ yarn workspace cutopia-frontend move-data\n",
      "$ cp -R ../data/resources public/ && cp -r ../data/derived/faculty_subjects.json src/constants/faculty_subjects.json\n",
      "$ yarn workspace cutopia-backend move-data\n",
      "$ bash tools/copy-data.sh\n",
      "Done in 2.91s.\n",
      "Updated, please deploy in 15 mins\n"
     ]
    }
   ],
   "source": [
    "import time\n",
    "from dotenv import set_key\n",
    "\n",
    "deploy_duration = 15 # in mins (need to deploy both fe & be within the duration)\n",
    "deploy_duration_seconds = deploy_duration * 60 # in mins\n",
    "\n",
    "now = str(int((time.time() + deploy_duration_seconds) * 1000))\n",
    "\n",
    "# Update FE\n",
    "os.system('yarn loadnmount')\n",
    "set_key('../frontend/.env', 'REACT_APP_LAST_DATA_UPDATE', str(now))\n",
    "set_key('../frontend/.env', 'REACT_APP_CURRENT_TERM', current_term)\n",
    "\n",
    "# Update BE\n",
    "os.system('sh ../backend/tools/copy-data.sh')\n",
    "print(f'Updated, please deploy in {deploy_duration} mins')"
   ]
  }
 ],
 "metadata": {
  "kernelspec": {
   "display_name": "Python 3.8.8 ('base')",
   "language": "python",
   "name": "python3"
  },
  "language_info": {
   "codemirror_mode": {
    "name": "ipython",
    "version": 3
   },
   "file_extension": ".py",
   "mimetype": "text/x-python",
   "name": "python",
   "nbconvert_exporter": "python",
   "pygments_lexer": "ipython3",
   "version": "3.8.8"
  },
  "orig_nbformat": 4,
  "vscode": {
   "interpreter": {
    "hash": "1b32e9bd945c7433f5b07266701d547c5dd8223410e8b9fcc928b2d031e45c37"
   }
  }
 },
 "nbformat": 4,
 "nbformat_minor": 2
}
