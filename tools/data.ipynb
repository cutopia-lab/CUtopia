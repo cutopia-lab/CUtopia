{
 "cells": [
  {
   "cell_type": "markdown",
   "metadata": {},
   "source": [
    "### Handle course data update"
   ]
  },
  {
   "cell_type": "markdown",
   "metadata": {},
   "source": [
    "#### Fetch data"
   ]
  },
  {
   "cell_type": "code",
   "execution_count": 1,
   "metadata": {},
   "outputs": [
    {
     "name": "stdout",
     "output_type": "stream",
     "text": [
      "Parsing courses for all 251 subjects, skip if already existed\n"
     ]
    },
    {
     "name": "stderr",
     "output_type": "stream",
     "text": [
      "100%|██████████| 251/251 [00:17<00:00, 14.30it/s]\n"
     ]
    },
    {
     "name": "stdout",
     "output_type": "stream",
     "text": [
      "Done! Saved at data/1661771599\n",
      "Found 2819 instructors\n",
      "Number of departments: 125\n",
      "Number of courses: 8413\n"
     ]
    }
   ],
   "source": [
    "from scraper import CourseScraper\n",
    "\n",
    "cs = CourseScraper(save_captchas=False)\n",
    "timestamp = cs.parse_all(skip_parsed=True, manual=False, verbose=False)\n",
    "cs.post_processing(stat=True)\n",
    "cs.info()"
   ]
  },
  {
   "cell_type": "markdown",
   "metadata": {},
   "source": [
    "#### Update cutopia-data"
   ]
  },
  {
   "cell_type": "code",
   "execution_count": 2,
   "metadata": {},
   "outputs": [
    {
     "name": "stdout",
     "output_type": "stream",
     "text": [
      "moving 1661771599 to /home/mike/Github/CUtopia/data\n"
     ]
    },
    {
     "name": "stderr",
     "output_type": "stream",
     "text": [
      "+ git add .\n",
      "+ git commit -am Update data @1661771599\n"
     ]
    },
    {
     "name": "stdout",
     "output_type": "stream",
     "text": [
      "[master e67d48d] Update data @1661771599\n",
      " 36 files changed, 36 insertions(+), 36 deletions(-)\n",
      " rewrite courses/ACCT.json (93%)\n",
      " rewrite courses/CCSS.json (71%)\n",
      " rewrite courses/CHEM.json (75%)\n",
      " rewrite courses/CHES.json (90%)\n",
      " rewrite courses/COMM.json (83%)\n",
      " rewrite courses/CSCI.json (76%)\n",
      " rewrite courses/DSME.json (77%)\n",
      " rewrite courses/DSPS.json (66%)\n",
      " rewrite courses/EDUC.json (70%)\n",
      " rewrite courses/ELTU.json (87%)\n",
      " rewrite courses/ENGE.json (82%)\n",
      " rewrite courses/ESTR.json (80%)\n",
      " rewrite courses/GRON.json (86%)\n",
      " rewrite courses/LAWS.json (82%)\n",
      " rewrite courses/MEDU.json (88%)\n",
      " rewrite courses/MUSC.json (62%)\n",
      " rewrite courses/RMSC.json (76%)\n",
      " rewrite courses/SPED.json (67%)\n",
      " rewrite courses/TRAN.json (89%)\n",
      " rewrite courses/UGEC.json (63%)\n",
      " rewrite courses/UGED.json (85%)\n",
      " rewrite resources/instructors.json (98%)\n"
     ]
    },
    {
     "name": "stderr",
     "output_type": "stream",
     "text": [
      "+ git push origin master\n",
      "To https://github.com/cutility/CUtopia-data.git\n",
      "   37205ee..e67d48d  master -> master\n"
     ]
    }
   ],
   "source": [
    "import os\n",
    "\n",
    "# timestamp = 1661771599\n",
    "p = os.system(f'sh move_data.sh {timestamp}')\n"
   ]
  },
  {
   "cell_type": "markdown",
   "metadata": {},
   "source": [
    "#### Update FE & BE"
   ]
  },
  {
   "cell_type": "code",
   "execution_count": 25,
   "metadata": {},
   "outputs": [
    {
     "name": "stdout",
     "output_type": "stream",
     "text": [
      "Updated, please deploy in 15 mins\n"
     ]
    }
   ],
   "source": [
    "import time\n",
    "from dotenv import set_key\n",
    "\n",
    "deploy_duration = 15 # in mins (need to deploy both fe & be within the duration)\n",
    "deploy_duration_seconds = deploy_duration * 60 # in mins\n",
    "\n",
    "now = str(int((time.time() + deploy_duration_seconds) * 1000))\n",
    "\n",
    "# Update FE\n",
    "set_key('../frontend/.env', 'REACT_APP_LAST_DATA_UPDATE', str(now))\n",
    "\n",
    "# Update BE (TODO)\n",
    "\n",
    "print(f'Updated, please deploy in {deploy_duration} mins')"
   ]
  }
 ],
 "metadata": {
  "kernelspec": {
   "display_name": "Python 3.8.8 ('base')",
   "language": "python",
   "name": "python3"
  },
  "language_info": {
   "codemirror_mode": {
    "name": "ipython",
    "version": 3
   },
   "file_extension": ".py",
   "mimetype": "text/x-python",
   "name": "python",
   "nbconvert_exporter": "python",
   "pygments_lexer": "ipython3",
   "version": "3.8.8"
  },
  "orig_nbformat": 4,
  "vscode": {
   "interpreter": {
    "hash": "1b32e9bd945c7433f5b07266701d547c5dd8223410e8b9fcc928b2d031e45c37"
   }
  }
 },
 "nbformat": 4,
 "nbformat_minor": 2
}
